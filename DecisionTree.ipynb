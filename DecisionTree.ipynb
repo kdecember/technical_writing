{
 "cells": [
  {
   "cell_type": "markdown",
   "metadata": {},
   "source": [
    "### Decision Trees"
   ]
  },
  {
   "cell_type": "markdown",
   "metadata": {},
   "source": [
    "Another form of machine learning is through the use of Decision Trees. In essence, Decision Trees are a method \n",
    "by which the data is split into categories until each resulting group is uniform in regard to the target.\n",
    "\n",
    "For example, if I wanted to predict gender based upon a set of various features, I could split the initial dataset\n",
    "along those features until each resulting group contained members of only one gender. \n",
    "\n",
    "Machine Learning algorithms perform this function by calculating the entropy of each split, and attempt to choose the optimal path with the least amount of entropy. In other words, the algorithm attempts to sort the data into the most organized groups possible, based upon the target being measured; a split resulting in subsets with 50% group A and 50% group B would have a high level of entropy, while a split resulting in subsets with 100% group A and 0% group B, would have a low level of entropy.\n",
    "\n",
    "While interesting and effective for modeling purposes, Decision Trees do have a high risk of overfitting, so be wary when using to make predictions outside of your training data.\n",
    "\n",
    "Below is a quick example of a Decision Tree."
   ]
  },
  {
   "cell_type": "code",
   "execution_count": 1,
   "metadata": {},
   "outputs": [],
   "source": [
    "import pandas as pd \n",
    "import numpy as np \n",
    "from sklearn.tree import DecisionTreeRegressor\n",
    "from sklearn.model_selection import train_test_split\n",
    "\n",
    "# Load the data\n",
    "filename = 'data/Folds5x2_pp.xlsx'\n",
    "df = pd.read_excel(filename)"
   ]
  },
  {
   "cell_type": "code",
   "execution_count": 2,
   "metadata": {},
   "outputs": [],
   "source": [
    "#assign features to X and target to y\n",
    "\n",
    "X = df[df.columns.difference(['PE'])]\n",
    "y = df['PE']"
   ]
  },
  {
   "cell_type": "code",
   "execution_count": 3,
   "metadata": {},
   "outputs": [],
   "source": [
    "#split data into training and testing subsets\n",
    "\n",
    "X_train, X_test, y_train, y_test = train_test_split(X, y, test_size=0.5, random_state=1)"
   ]
  },
  {
   "cell_type": "code",
   "execution_count": 4,
   "metadata": {},
   "outputs": [
    {
     "data": {
      "text/plain": [
       "0.9250580726905822"
      ]
     },
     "execution_count": 4,
     "metadata": {},
     "output_type": "execute_result"
    }
   ],
   "source": [
    "#fit the Sklearn Decision Tree regressor to the training data, and evaluate R^2 using testing data\n",
    "\n",
    "rt = DecisionTreeRegressor(random_state=1)\n",
    "\n",
    "rt.fit(X_train, y_train)\n",
    "rt.score(X_test, y_test)"
   ]
  },
  {
   "cell_type": "code",
   "execution_count": null,
   "metadata": {},
   "outputs": [],
   "source": []
  }
 ],
 "metadata": {
  "kernelspec": {
   "display_name": "learn-env",
   "language": "python",
   "name": "learn-env"
  },
  "language_info": {
   "codemirror_mode": {
    "name": "ipython",
    "version": 3
   },
   "file_extension": ".py",
   "mimetype": "text/x-python",
   "name": "python",
   "nbconvert_exporter": "python",
   "pygments_lexer": "ipython3",
   "version": "3.6.9"
  }
 },
 "nbformat": 4,
 "nbformat_minor": 4
}
