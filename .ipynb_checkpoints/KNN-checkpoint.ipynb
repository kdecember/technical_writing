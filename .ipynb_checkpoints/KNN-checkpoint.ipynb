{
 "cells": [
  {
   "cell_type": "markdown",
   "metadata": {},
   "source": [
    "### KNN - a brief summary"
   ]
  },
  {
   "cell_type": "markdown",
   "metadata": {},
   "source": [
    "K-Nearest neighbors is a method of modeling by which the algorithm takes the K-nearest neighbors of each point and assigns it a classification based on the characteristics of it's neighbors.\n",
    "\n",
    "K is the number of neighbors assigned for classification purposes, and it is determined by the user depending on the characteristics they desire from their model; higher K-values will generate a more biased, less variant model, while lower K-values will generate a more variant, less biased model.\n",
    "\n",
    "Please see the code below for a quick example of K-Nearest Neighbors.\n"
   ]
  },
  {
   "cell_type": "code",
   "execution_count": 32,
   "metadata": {},
   "outputs": [],
   "source": [
    "import matplotlib.pyplot as plt\n",
    "import seaborn as sns\n",
    "from scipy.spatial.distance import euclidean as euc\n",
    "import numpy as np\n",
    "import pandas as pd\n",
    "from sklearn.datasets import make_classification\n",
    "\n",
    "from sklearn.model_selection import train_test_split, cross_val_score\n",
    "from sklearn.metrics import mean_squared_error, r2_score\n",
    "from sklearn.preprocessing import StandardScaler\n",
    "\n",
    "from sklearn.neighbors import KNeighborsClassifier\n",
    "from sklearn.metrics import confusion_matrix\n",
    "np.random.seed(0)"
   ]
  },
  {
   "cell_type": "code",
   "execution_count": 63,
   "metadata": {},
   "outputs": [],
   "source": [
    "#generate arrays for example purposes\n",
    "\n",
    "x = np.asarray(range(100)).reshape(-1, 1)\n",
    "\n",
    "z = list(np.zeros(50)) + list(np.ones(50))\n",
    "y = np.asarray(z)"
   ]
  },
  {
   "cell_type": "code",
   "execution_count": 65,
   "metadata": {},
   "outputs": [],
   "source": [
    "#split your data into training and test sets\n",
    "\n",
    "X_train, X_test, y_train, y_test = train_test_split(x, y)"
   ]
  },
  {
   "cell_type": "code",
   "execution_count": 66,
   "metadata": {},
   "outputs": [
    {
     "data": {
      "text/plain": [
       "array([[ 0.20424214],\n",
       "       [ 1.17992115],\n",
       "       [-0.47873317],\n",
       "       [ 0.17171951],\n",
       "       [-1.48693482],\n",
       "       [ 0.04162897],\n",
       "       [ 0.00910634],\n",
       "       [ 1.11487589],\n",
       "       [-0.2185521 ],\n",
       "       [ 0.59451375],\n",
       "       [-0.6088237 ],\n",
       "       [-0.34864263],\n",
       "       [ 0.69208165],\n",
       "       [ 0.0741516 ],\n",
       "       [ 1.60271539],\n",
       "       [ 0.36685531],\n",
       "       [ 0.65955901],\n",
       "       [ 0.88721745],\n",
       "       [ 0.72460428],\n",
       "       [ 0.13919687],\n",
       "       [ 0.30181004],\n",
       "       [ 0.43190058],\n",
       "       [-0.0234163 ],\n",
       "       [ 0.91974008],\n",
       "       [-1.16170848]])"
      ]
     },
     "execution_count": 66,
     "metadata": {},
     "output_type": "execute_result"
    }
   ],
   "source": [
    "#scale your data to avoid disproportional coefficient influence\n",
    "\n",
    "ss = StandardScaler()\n",
    "\n",
    "ss.fit(X_train)\n",
    "\n",
    "ss.transform(X_train)\n",
    "ss.transform(X_test)"
   ]
  },
  {
   "cell_type": "code",
   "execution_count": 67,
   "metadata": {},
   "outputs": [
    {
     "data": {
      "text/plain": [
       "KNeighborsClassifier(algorithm='auto', leaf_size=30, metric='minkowski',\n",
       "                     metric_params=None, n_jobs=None, n_neighbors=5, p=2,\n",
       "                     weights='uniform')"
      ]
     },
     "execution_count": 67,
     "metadata": {},
     "output_type": "execute_result"
    }
   ],
   "source": [
    "#fit KNN to your training data \n",
    "\n",
    "knn = KNeighborsClassifier()\n",
    "\n",
    "knn.fit(X_train, y_train)"
   ]
  },
  {
   "cell_type": "code",
   "execution_count": 68,
   "metadata": {},
   "outputs": [
    {
     "data": {
      "text/plain": [
       "array([[ 9,  1],\n",
       "       [ 0, 15]])"
      ]
     },
     "execution_count": 68,
     "metadata": {},
     "output_type": "execute_result"
    }
   ],
   "source": [
    "confusion_matrix(knn.predict(X_test), y_test)"
   ]
  },
  {
   "cell_type": "markdown",
   "metadata": {},
   "source": [
    "### Simple confusion matrix\n",
    "\n",
    "In this example, there are 2 possible predictions and 4 possible outcomes. The array values correspond to their respective indices.\n",
    "\n",
    "0,0 is where the true value is 0 and a 0 was predicted  \n",
    "0,1 is where the true value is 0 and a 1 was predicted  \n",
    "1,0 is where the true value is 1 and a 0 was predicted  \n",
    "1,1 is where the true value is 1 and a 1 was predicted  "
   ]
  },
  {
   "cell_type": "code",
   "execution_count": null,
   "metadata": {},
   "outputs": [],
   "source": []
  }
 ],
 "metadata": {
  "kernelspec": {
   "display_name": "learn-env",
   "language": "python",
   "name": "learn-env"
  },
  "language_info": {
   "codemirror_mode": {
    "name": "ipython",
    "version": 3
   },
   "file_extension": ".py",
   "mimetype": "text/x-python",
   "name": "python",
   "nbconvert_exporter": "python",
   "pygments_lexer": "ipython3",
   "version": "3.6.9"
  }
 },
 "nbformat": 4,
 "nbformat_minor": 4
}
