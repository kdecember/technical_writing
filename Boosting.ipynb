{
 "cells": [
  {
   "cell_type": "markdown",
   "metadata": {},
   "source": [
    "### Boosting"
   ]
  },
  {
   "cell_type": "markdown",
   "metadata": {},
   "source": [
    "Boosting can be summed up fairly quickly; it is essentially boils down to starting with a bad model, and improving upon that model by creating a new model based on it's errors.\n",
    "\n",
    "The most effective method of doing this is by creating a dummy model (which just guesses the mean), and then passing the dummy model's errors through another simple model. Generally speaking, it's best to use a slow learning model in order to allow for small step sizes so we can narrow in on a more effective model, without overadjusting on the errors. One way to achieve this is by iterating over the dummy model with a decision tree that has only 1 split, or we can just use Sklearn's built in Boosting regressor! =)\n",
    "\n",
    "This process is iterated however many times as chosen by the developer. Please see the code below for a quick example."
   ]
  },
  {
   "cell_type": "code",
   "execution_count": 1,
   "metadata": {},
   "outputs": [],
   "source": [
    "from sklearn.ensemble import GradientBoostingClassifier\n",
    "import pandas as pd\n",
    "from sklearn.model_selection import train_test_split\n",
    "\n",
    "from sklearn.compose import ColumnTransformer\n",
    "from sklearn.preprocessing import OneHotEncoder\n",
    "from sklearn.metrics import confusion_matrix"
   ]
  },
  {
   "cell_type": "code",
   "execution_count": 2,
   "metadata": {},
   "outputs": [],
   "source": [
    "#import, clean, and preprocess data\n",
    "\n",
    "salaries = pd.read_csv('data/adult.data', header=None)\n",
    "\n",
    "X_train, X_test, y_train, y_test = train_test_split(salaries.drop(14, axis=1), salaries[14],\n",
    "                                                   random_state=2)\n",
    "\n",
    "ct = ColumnTransformer([(\"ohe\", OneHotEncoder(handle_unknown='ignore'), [1, 3, 5, 6, 7, 8, 9, 13])])\n",
    "ct.fit_transform(X_train)\n",
    "\n",
    "X_train_dums = ct.transform(X_train)\n",
    "X_test_dums = ct.transform(X_test)"
   ]
  },
  {
   "cell_type": "code",
   "execution_count": 5,
   "metadata": {},
   "outputs": [
    {
     "name": "stdout",
     "output_type": "stream",
     "text": [
      "      Iter       Train Loss   Remaining Time \n",
      "         1           1.0046            2.79s\n",
      "         2           0.9399            2.72s\n",
      "         3           0.8975            2.48s\n",
      "         4           0.8671            2.33s\n",
      "         5           0.8443            2.23s\n",
      "         6           0.8283            2.18s\n",
      "         7           0.8152            2.13s\n",
      "         8           0.8040            2.07s\n",
      "         9           0.7972            2.02s\n",
      "        10           0.7899            2.02s\n",
      "        20           0.7490            1.66s\n",
      "        30           0.7284            1.47s\n",
      "        40           0.7173            1.24s\n",
      "        50           0.7097            1.04s\n",
      "        60           0.7047            0.82s\n",
      "        70           0.7009            0.60s\n",
      "        80           0.6972            0.39s\n",
      "        90           0.6942            0.20s\n",
      "       100           0.6918            0.00s\n"
     ]
    },
    {
     "data": {
      "text/plain": [
       "GradientBoostingClassifier(ccp_alpha=0.0, criterion='friedman_mse', init=None,\n",
       "                           learning_rate=0.2, loss='deviance', max_depth=3,\n",
       "                           max_features=None, max_leaf_nodes=None,\n",
       "                           min_impurity_decrease=0.0, min_impurity_split=None,\n",
       "                           min_samples_leaf=1, min_samples_split=2,\n",
       "                           min_weight_fraction_leaf=0.0, n_estimators=100,\n",
       "                           n_iter_no_change=None, presort='deprecated',\n",
       "                           random_state=1, subsample=1.0, tol=0.0001,\n",
       "                           validation_fraction=0.1, verbose=1,\n",
       "                           warm_start=False)"
      ]
     },
     "execution_count": 5,
     "metadata": {},
     "output_type": "execute_result"
    }
   ],
   "source": [
    "# initiate gradient booster and run default 100 iterations\n",
    "\n",
    "gb = GradientBoostingClassifier(verbose=1, learning_rate=.2, random_state=1)\n",
    "\n",
    "gb.fit(X_train_dums, y_train)"
   ]
  },
  {
   "cell_type": "markdown",
   "metadata": {},
   "source": [
    "As you can see, the loss function decreases over time, which indicates an improvement @ each iteration of the model."
   ]
  },
  {
   "cell_type": "code",
   "execution_count": null,
   "metadata": {},
   "outputs": [],
   "source": []
  }
 ],
 "metadata": {
  "kernelspec": {
   "display_name": "learn-env",
   "language": "python",
   "name": "learn-env"
  },
  "language_info": {
   "codemirror_mode": {
    "name": "ipython",
    "version": 3
   },
   "file_extension": ".py",
   "mimetype": "text/x-python",
   "name": "python",
   "nbconvert_exporter": "python",
   "pygments_lexer": "ipython3",
   "version": "3.6.9"
  }
 },
 "nbformat": 4,
 "nbformat_minor": 4
}
